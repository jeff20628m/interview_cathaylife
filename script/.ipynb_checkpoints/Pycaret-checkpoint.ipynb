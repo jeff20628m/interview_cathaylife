{
 "cells": [
  {
   "cell_type": "code",
   "execution_count": 1,
   "metadata": {},
   "outputs": [],
   "source": [
    "from pycaret.classification import *"
   ]
  },
  {
   "cell_type": "code",
   "execution_count": null,
   "metadata": {},
   "outputs": [],
   "source": [
    "train = pd.read_csv('../data/train.csv') \n",
    "test = pd.read_csv('../data/test.csv')"
   ]
  },
  {
   "cell_type": "code",
   "execution_count": null,
   "metadata": {
    "scrolled": true
   },
   "outputs": [],
   "source": [
    "exp_name = setup(data = train,  target = 'Response')"
   ]
  },
  {
   "cell_type": "code",
   "execution_count": null,
   "metadata": {},
   "outputs": [],
   "source": []
  },
  {
   "cell_type": "code",
   "execution_count": null,
   "metadata": {},
   "outputs": [
    {
     "name": "stderr",
     "output_type": "stream",
     "text": [
      "INFO:logs:Initializing compare_models()\n",
      "INFO:logs:compare_models(include=None, fold=None, round=4, cross_validation=True, sort=Accuracy, n_select=5, budget_time=None, turbo=True, errors=ignore, fit_kwargs=None, groups=None, verbose=True, display=None, exclude=None)\n",
      "INFO:logs:Checking exceptions\n",
      "INFO:logs:Preparing display monitor\n",
      "INFO:logs:Preparing display monitor\n"
     ]
    },
    {
     "data": {
      "application/vnd.jupyter.widget-view+json": {
       "model_id": "27ba51cb9270424e9b3c2900fd93fb64",
       "version_major": 2,
       "version_minor": 0
      },
      "text/plain": [
       "IntProgress(value=0, description='Processing: ', max=79)"
      ]
     },
     "metadata": {},
     "output_type": "display_data"
    },
    {
     "data": {
      "text/html": [
       "<div>\n",
       "<style scoped>\n",
       "    .dataframe tbody tr th:only-of-type {\n",
       "        vertical-align: middle;\n",
       "    }\n",
       "\n",
       "    .dataframe tbody tr th {\n",
       "        vertical-align: top;\n",
       "    }\n",
       "\n",
       "    .dataframe thead th {\n",
       "        text-align: right;\n",
       "    }\n",
       "</style>\n",
       "<table border=\"1\" class=\"dataframe\">\n",
       "  <thead>\n",
       "    <tr style=\"text-align: right;\">\n",
       "      <th></th>\n",
       "      <th></th>\n",
       "      <th></th>\n",
       "    </tr>\n",
       "    <tr>\n",
       "      <th></th>\n",
       "      <th></th>\n",
       "      <th></th>\n",
       "    </tr>\n",
       "  </thead>\n",
       "  <tbody>\n",
       "    <tr>\n",
       "      <th>Initiated</th>\n",
       "      <td>. . . . . . . . . . . . . . . . . .</td>\n",
       "      <td>08:54:38</td>\n",
       "    </tr>\n",
       "    <tr>\n",
       "      <th>Status</th>\n",
       "      <td>. . . . . . . . . . . . . . . . . .</td>\n",
       "      <td>Fitting 10 Folds</td>\n",
       "    </tr>\n",
       "    <tr>\n",
       "      <th>Estimator</th>\n",
       "      <td>. . . . . . . . . . . . . . . . . .</td>\n",
       "      <td>K Neighbors Classifier</td>\n",
       "    </tr>\n",
       "  </tbody>\n",
       "</table>\n",
       "</div>"
      ],
      "text/plain": [
       "                                                                      \n",
       "                                                                      \n",
       "Initiated  . . . . . . . . . . . . . . . . . .                08:54:38\n",
       "Status     . . . . . . . . . . . . . . . . . .        Fitting 10 Folds\n",
       "Estimator  . . . . . . . . . . . . . . . . . .  K Neighbors Classifier"
      ]
     },
     "metadata": {},
     "output_type": "display_data"
    },
    {
     "data": {
      "text/html": [
       "<style  type=\"text/css\" >\n",
       "    #T_4d91500c_cd74_11eb_b0f4_d45ddf00c6a4 th {\n",
       "          text-align: left;\n",
       "    }    #T_4d91500c_cd74_11eb_b0f4_d45ddf00c6a4row0_col0 {\n",
       "            text-align:  left;\n",
       "        }    #T_4d91500c_cd74_11eb_b0f4_d45ddf00c6a4row0_col1 {\n",
       "            text-align:  left;\n",
       "        }    #T_4d91500c_cd74_11eb_b0f4_d45ddf00c6a4row0_col2 {\n",
       "            text-align:  left;\n",
       "        }    #T_4d91500c_cd74_11eb_b0f4_d45ddf00c6a4row0_col3 {\n",
       "            text-align:  left;\n",
       "        }    #T_4d91500c_cd74_11eb_b0f4_d45ddf00c6a4row0_col4 {\n",
       "            text-align:  left;\n",
       "        }    #T_4d91500c_cd74_11eb_b0f4_d45ddf00c6a4row0_col5 {\n",
       "            text-align:  left;\n",
       "        }    #T_4d91500c_cd74_11eb_b0f4_d45ddf00c6a4row0_col6 {\n",
       "            text-align:  left;\n",
       "        }    #T_4d91500c_cd74_11eb_b0f4_d45ddf00c6a4row0_col7 {\n",
       "            text-align:  left;\n",
       "        }    #T_4d91500c_cd74_11eb_b0f4_d45ddf00c6a4row0_col8 {\n",
       "            text-align:  left;\n",
       "        }</style><table id=\"T_4d91500c_cd74_11eb_b0f4_d45ddf00c6a4\" ><thead>    <tr>        <th class=\"blank level0\" ></th>        <th class=\"col_heading level0 col0\" >Model</th>        <th class=\"col_heading level0 col1\" >Accuracy</th>        <th class=\"col_heading level0 col2\" >AUC</th>        <th class=\"col_heading level0 col3\" >Recall</th>        <th class=\"col_heading level0 col4\" >Prec.</th>        <th class=\"col_heading level0 col5\" >F1</th>        <th class=\"col_heading level0 col6\" >Kappa</th>        <th class=\"col_heading level0 col7\" >MCC</th>        <th class=\"col_heading level0 col8\" >TT (Sec)</th>    </tr></thead><tbody>\n",
       "                <tr>\n",
       "                        <th id=\"T_4d91500c_cd74_11eb_b0f4_d45ddf00c6a4level0_row0\" class=\"row_heading level0 row0\" >lr</th>\n",
       "                        <td id=\"T_4d91500c_cd74_11eb_b0f4_d45ddf00c6a4row0_col0\" class=\"data row0 col0\" >Logistic Regression</td>\n",
       "                        <td id=\"T_4d91500c_cd74_11eb_b0f4_d45ddf00c6a4row0_col1\" class=\"data row0 col1\" >0.8744</td>\n",
       "                        <td id=\"T_4d91500c_cd74_11eb_b0f4_d45ddf00c6a4row0_col2\" class=\"data row0 col2\" >0.7842</td>\n",
       "                        <td id=\"T_4d91500c_cd74_11eb_b0f4_d45ddf00c6a4row0_col3\" class=\"data row0 col3\" >0.0180</td>\n",
       "                        <td id=\"T_4d91500c_cd74_11eb_b0f4_d45ddf00c6a4row0_col4\" class=\"data row0 col4\" >0.2525</td>\n",
       "                        <td id=\"T_4d91500c_cd74_11eb_b0f4_d45ddf00c6a4row0_col5\" class=\"data row0 col5\" >0.0336</td>\n",
       "                        <td id=\"T_4d91500c_cd74_11eb_b0f4_d45ddf00c6a4row0_col6\" class=\"data row0 col6\" >0.0209</td>\n",
       "                        <td id=\"T_4d91500c_cd74_11eb_b0f4_d45ddf00c6a4row0_col7\" class=\"data row0 col7\" >0.0441</td>\n",
       "                        <td id=\"T_4d91500c_cd74_11eb_b0f4_d45ddf00c6a4row0_col8\" class=\"data row0 col8\" >1.7240</td>\n",
       "            </tr>\n",
       "    </tbody></table>"
      ],
      "text/plain": [
       "<pandas.io.formats.style.Styler at 0x157316aa048>"
      ]
     },
     "metadata": {},
     "output_type": "display_data"
    },
    {
     "name": "stderr",
     "output_type": "stream",
     "text": [
      "INFO:logs:Initializing Logistic Regression\n",
      "INFO:logs:Total runtime is 3.3565362294514974e-05 minutes\n",
      "INFO:logs:SubProcess create_model() called ==================================\n",
      "INFO:logs:Initializing create_model()\n",
      "INFO:logs:create_model(estimator=lr, fold=StratifiedKFold(n_splits=10, random_state=None, shuffle=False), round=4, cross_validation=True, predict=True, fit_kwargs={}, groups=None, refit=False, verbose=False, system=False, metrics=None, display=<pycaret.internal.Display.Display object at 0x00000157317304C8>, kwargs={})\n",
      "INFO:logs:Checking exceptions\n",
      "INFO:logs:Importing libraries\n",
      "INFO:logs:Copying training dataset\n",
      "INFO:logs:Defining folds\n",
      "INFO:logs:Declaring metric variables\n",
      "INFO:logs:Importing untrained model\n",
      "INFO:logs:Logistic Regression Imported succesfully\n",
      "INFO:logs:Starting cross validation\n",
      "INFO:logs:Cross validating with StratifiedKFold(n_splits=10, random_state=None, shuffle=False), n_jobs=-1\n",
      "INFO:logs:Calculating mean and std\n",
      "INFO:logs:Creating metrics dataframe\n",
      "INFO:logs:Uploading results into container\n",
      "INFO:logs:Uploading model into container now\n",
      "INFO:logs:create_model_container: 19\n",
      "INFO:logs:master_model_container: 19\n",
      "INFO:logs:display_container: 4\n",
      "INFO:logs:LogisticRegression(C=1.0, class_weight=None, dual=False, fit_intercept=True,\n",
      "                   intercept_scaling=1, l1_ratio=None, max_iter=1000,\n",
      "                   multi_class='auto', n_jobs=None, penalty='l2',\n",
      "                   random_state=8599, solver='lbfgs', tol=0.0001, verbose=0,\n",
      "                   warm_start=False)\n",
      "INFO:logs:create_model() succesfully completed......................................\n",
      "INFO:logs:SubProcess create_model() end ==================================\n",
      "INFO:logs:Creating metrics dataframe\n",
      "INFO:logs:Initializing K Neighbors Classifier\n",
      "INFO:logs:Total runtime is 0.2936403552691142 minutes\n",
      "INFO:logs:SubProcess create_model() called ==================================\n",
      "INFO:logs:Initializing create_model()\n",
      "INFO:logs:create_model(estimator=knn, fold=StratifiedKFold(n_splits=10, random_state=None, shuffle=False), round=4, cross_validation=True, predict=True, fit_kwargs={}, groups=None, refit=False, verbose=False, system=False, metrics=None, display=<pycaret.internal.Display.Display object at 0x00000157317304C8>, kwargs={})\n",
      "INFO:logs:Checking exceptions\n",
      "INFO:logs:Importing libraries\n",
      "INFO:logs:Copying training dataset\n",
      "INFO:logs:Defining folds\n",
      "INFO:logs:Declaring metric variables\n",
      "INFO:logs:Importing untrained model\n",
      "INFO:logs:K Neighbors Classifier Imported succesfully\n",
      "INFO:logs:Starting cross validation\n",
      "INFO:logs:Cross validating with StratifiedKFold(n_splits=10, random_state=None, shuffle=False), n_jobs=-1\n",
      "WARNING:logs:create_model() for knn raised an exception or returned all 0.0, trying without fit_kwargs:\n",
      "WARNING:logs:Traceback (most recent call last):\n",
      "  File \"C:\\Users\\USER\\AppData\\Roaming\\Python\\Python37\\site-packages\\pycaret\\internal\\tabular.py\", line 2176, in compare_models\n",
      "    refit=False,\n",
      "  File \"C:\\Users\\USER\\AppData\\Roaming\\Python\\Python37\\site-packages\\pycaret\\internal\\tabular.py\", line 3125, in create_model_supervised\n",
      "    error_score=0,\n",
      "  File \"C:\\Users\\USER\\Anaconda3\\lib\\site-packages\\sklearn\\utils\\validation.py\", line 72, in inner_f\n",
      "    return f(**kwargs)\n",
      "  File \"C:\\Users\\USER\\Anaconda3\\lib\\site-packages\\sklearn\\model_selection\\_validation.py\", line 248, in cross_validate\n",
      "    for train, test in cv.split(X, y, groups))\n",
      "  File \"C:\\Users\\USER\\Anaconda3\\lib\\site-packages\\joblib\\parallel.py\", line 1017, in __call__\n",
      "    self.retrieve()\n",
      "  File \"C:\\Users\\USER\\Anaconda3\\lib\\site-packages\\joblib\\parallel.py\", line 909, in retrieve\n",
      "    self._output.extend(job.get(timeout=self.timeout))\n",
      "  File \"C:\\Users\\USER\\Anaconda3\\lib\\site-packages\\joblib\\_parallel_backends.py\", line 562, in wrap_future_result\n",
      "    return future.result(timeout=timeout)\n",
      "  File \"C:\\Users\\USER\\Anaconda3\\lib\\concurrent\\futures\\_base.py\", line 430, in result\n",
      "    self._condition.wait(timeout)\n",
      "  File \"C:\\Users\\USER\\Anaconda3\\lib\\threading.py\", line 296, in wait\n",
      "    waiter.acquire()\n",
      "KeyboardInterrupt\n",
      "\n",
      "INFO:logs:Initializing create_model()\n",
      "INFO:logs:create_model(estimator=knn, fold=StratifiedKFold(n_splits=10, random_state=None, shuffle=False), round=4, cross_validation=True, predict=True, fit_kwargs=None, groups=None, refit=False, verbose=False, system=False, metrics=None, display=<pycaret.internal.Display.Display object at 0x00000157317304C8>, kwargs={})\n",
      "INFO:logs:Checking exceptions\n",
      "INFO:logs:Importing libraries\n",
      "INFO:logs:Copying training dataset\n",
      "INFO:logs:Defining folds\n",
      "INFO:logs:Declaring metric variables\n",
      "INFO:logs:Importing untrained model\n",
      "INFO:logs:K Neighbors Classifier Imported succesfully\n",
      "INFO:logs:Starting cross validation\n",
      "INFO:logs:Cross validating with StratifiedKFold(n_splits=10, random_state=None, shuffle=False), n_jobs=-1\n"
     ]
    }
   ],
   "source": [
    "top5 = compare_models(n_select = 5)\n",
    "tuned_top5 = [tune_model(i) for i in top5]\n",
    "blender = blend_models(tuned_top5)\n",
    "stacker = stack_models(tuned_top5)\n",
    "best_auc_model = automl(optimize = 'AUC')"
   ]
  },
  {
   "cell_type": "code",
   "execution_count": null,
   "metadata": {},
   "outputs": [],
   "source": []
  }
 ],
 "metadata": {
  "kernelspec": {
   "display_name": "Python 3",
   "language": "python",
   "name": "python3"
  },
  "toc": {
   "base_numbering": 1,
   "nav_menu": {},
   "number_sections": true,
   "sideBar": true,
   "skip_h1_title": false,
   "title_cell": "Table of Contents",
   "title_sidebar": "Contents",
   "toc_cell": false,
   "toc_position": {},
   "toc_section_display": true,
   "toc_window_display": false
  },
  "varInspector": {
   "cols": {
    "lenName": 16,
    "lenType": 16,
    "lenVar": 40
   },
   "kernels_config": {
    "python": {
     "delete_cmd_postfix": "",
     "delete_cmd_prefix": "del ",
     "library": "var_list.py",
     "varRefreshCmd": "print(var_dic_list())"
    },
    "r": {
     "delete_cmd_postfix": ") ",
     "delete_cmd_prefix": "rm(",
     "library": "var_list.r",
     "varRefreshCmd": "cat(var_dic_list()) "
    }
   },
   "types_to_exclude": [
    "module",
    "function",
    "builtin_function_or_method",
    "instance",
    "_Feature"
   ],
   "window_display": false
  }
 },
 "nbformat": 4,
 "nbformat_minor": 4
}
